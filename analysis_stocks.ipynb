{
 "cells": [
  {
   "cell_type": "code",
   "execution_count": 2,
   "id": "168bb6cf-162a-4014-947f-41c63b2a9fd1",
   "metadata": {},
   "outputs": [],
   "source": [
    "import pandas as pd\n",
    "from matplotlib import pyplot as plt\n",
    "import seaborn as sns\n",
    "import csv\n",
    "import numpy as np"
   ]
  },
  {
   "cell_type": "code",
   "execution_count": 2,
   "id": "8a292a88-597e-4d4e-8da6-28e4b0dc2d2e",
   "metadata": {},
   "outputs": [],
   "source": [
    "data = '/home/sam/prog/api_stocks_get/data.csv'"
   ]
  },
  {
   "cell_type": "code",
   "execution_count": 3,
   "id": "0d2c3fc7-2dc4-4b45-9870-0eaeb7d6ccd6",
   "metadata": {},
   "outputs": [],
   "source": [
    "df = pd.read_csv(data, delimiter=',')"
   ]
  },
  {
   "cell_type": "code",
   "execution_count": 4,
   "id": "020e277c-c2db-41c8-b144-cb699133fc17",
   "metadata": {},
   "outputs": [
    {
     "data": {
      "text/html": [
       "<div>\n",
       "<style scoped>\n",
       "    .dataframe tbody tr th:only-of-type {\n",
       "        vertical-align: middle;\n",
       "    }\n",
       "\n",
       "    .dataframe tbody tr th {\n",
       "        vertical-align: top;\n",
       "    }\n",
       "\n",
       "    .dataframe thead th {\n",
       "        text-align: right;\n",
       "    }\n",
       "</style>\n",
       "<table border=\"1\" class=\"dataframe\">\n",
       "  <thead>\n",
       "    <tr style=\"text-align: right;\">\n",
       "      <th></th>\n",
       "      <th>timestamp</th>\n",
       "      <th>open</th>\n",
       "      <th>high</th>\n",
       "      <th>low</th>\n",
       "      <th>close</th>\n",
       "      <th>volume</th>\n",
       "    </tr>\n",
       "  </thead>\n",
       "  <tbody>\n",
       "    <tr>\n",
       "      <th>0</th>\n",
       "      <td>2023-11-30 19:55:00</td>\n",
       "      <td>158.3500</td>\n",
       "      <td>158.5500</td>\n",
       "      <td>158.3100</td>\n",
       "      <td>158.3100</td>\n",
       "      <td>105</td>\n",
       "    </tr>\n",
       "    <tr>\n",
       "      <th>1</th>\n",
       "      <td>2023-11-30 19:45:00</td>\n",
       "      <td>158.5500</td>\n",
       "      <td>158.5500</td>\n",
       "      <td>158.5500</td>\n",
       "      <td>158.5500</td>\n",
       "      <td>40</td>\n",
       "    </tr>\n",
       "    <tr>\n",
       "      <th>2</th>\n",
       "      <td>2023-11-30 19:40:00</td>\n",
       "      <td>158.3000</td>\n",
       "      <td>158.3000</td>\n",
       "      <td>158.3000</td>\n",
       "      <td>158.3000</td>\n",
       "      <td>1</td>\n",
       "    </tr>\n",
       "    <tr>\n",
       "      <th>3</th>\n",
       "      <td>2023-11-30 19:35:00</td>\n",
       "      <td>158.4500</td>\n",
       "      <td>158.5100</td>\n",
       "      <td>158.3000</td>\n",
       "      <td>158.3000</td>\n",
       "      <td>165</td>\n",
       "    </tr>\n",
       "    <tr>\n",
       "      <th>4</th>\n",
       "      <td>2023-11-30 19:30:00</td>\n",
       "      <td>158.4900</td>\n",
       "      <td>158.4900</td>\n",
       "      <td>158.4400</td>\n",
       "      <td>158.4900</td>\n",
       "      <td>115</td>\n",
       "    </tr>\n",
       "    <tr>\n",
       "      <th>...</th>\n",
       "      <td>...</td>\n",
       "      <td>...</td>\n",
       "      <td>...</td>\n",
       "      <td>...</td>\n",
       "      <td>...</td>\n",
       "      <td>...</td>\n",
       "    </tr>\n",
       "    <tr>\n",
       "      <th>15370</th>\n",
       "      <td>2023-07-03 04:45:00</td>\n",
       "      <td>130.8230</td>\n",
       "      <td>130.8860</td>\n",
       "      <td>130.7830</td>\n",
       "      <td>130.8570</td>\n",
       "      <td>40</td>\n",
       "    </tr>\n",
       "    <tr>\n",
       "      <th>15371</th>\n",
       "      <td>2023-07-03 04:30:00</td>\n",
       "      <td>130.7940</td>\n",
       "      <td>130.7980</td>\n",
       "      <td>130.7140</td>\n",
       "      <td>130.7300</td>\n",
       "      <td>28</td>\n",
       "    </tr>\n",
       "    <tr>\n",
       "      <th>15372</th>\n",
       "      <td>2023-07-03 04:10:00</td>\n",
       "      <td>130.8230</td>\n",
       "      <td>130.8270</td>\n",
       "      <td>130.7830</td>\n",
       "      <td>130.7980</td>\n",
       "      <td>1</td>\n",
       "    </tr>\n",
       "    <tr>\n",
       "      <th>15373</th>\n",
       "      <td>2023-07-03 04:05:00</td>\n",
       "      <td>130.7540</td>\n",
       "      <td>131.0030</td>\n",
       "      <td>130.6850</td>\n",
       "      <td>130.7980</td>\n",
       "      <td>121</td>\n",
       "    </tr>\n",
       "    <tr>\n",
       "      <th>15374</th>\n",
       "      <td>2023-07-03 04:00:00</td>\n",
       "      <td>130.8520</td>\n",
       "      <td>131.0030</td>\n",
       "      <td>130.7140</td>\n",
       "      <td>130.7300</td>\n",
       "      <td>51</td>\n",
       "    </tr>\n",
       "  </tbody>\n",
       "</table>\n",
       "<p>15375 rows × 6 columns</p>\n",
       "</div>"
      ],
      "text/plain": [
       "                 timestamp      open      high       low     close volume\n",
       "0      2023-11-30 19:55:00  158.3500  158.5500  158.3100  158.3100    105\n",
       "1      2023-11-30 19:45:00  158.5500  158.5500  158.5500  158.5500     40\n",
       "2      2023-11-30 19:40:00  158.3000  158.3000  158.3000  158.3000      1\n",
       "3      2023-11-30 19:35:00  158.4500  158.5100  158.3000  158.3000    165\n",
       "4      2023-11-30 19:30:00  158.4900  158.4900  158.4400  158.4900    115\n",
       "...                    ...       ...       ...       ...       ...    ...\n",
       "15370  2023-07-03 04:45:00  130.8230  130.8860  130.7830  130.8570     40\n",
       "15371  2023-07-03 04:30:00  130.7940  130.7980  130.7140  130.7300     28\n",
       "15372  2023-07-03 04:10:00  130.8230  130.8270  130.7830  130.7980      1\n",
       "15373  2023-07-03 04:05:00  130.7540  131.0030  130.6850  130.7980    121\n",
       "15374  2023-07-03 04:00:00  130.8520  131.0030  130.7140  130.7300     51\n",
       "\n",
       "[15375 rows x 6 columns]"
      ]
     },
     "execution_count": 4,
     "metadata": {},
     "output_type": "execute_result"
    }
   ],
   "source": [
    "df"
   ]
  },
  {
   "cell_type": "code",
   "execution_count": 5,
   "id": "049591a2-8157-4255-b38b-39d95e8b9c84",
   "metadata": {},
   "outputs": [
    {
     "name": "stdout",
     "output_type": "stream",
     "text": [
      "<class 'pandas.core.frame.DataFrame'>\n",
      "RangeIndex: 15375 entries, 0 to 15374\n",
      "Data columns (total 6 columns):\n",
      " #   Column     Non-Null Count  Dtype \n",
      "---  ------     --------------  ----- \n",
      " 0   timestamp  15375 non-null  object\n",
      " 1   open       15375 non-null  object\n",
      " 2   high       15375 non-null  object\n",
      " 3   low        15375 non-null  object\n",
      " 4   close      15375 non-null  object\n",
      " 5   volume     15375 non-null  object\n",
      "dtypes: object(6)\n",
      "memory usage: 720.8+ KB\n"
     ]
    }
   ],
   "source": [
    "df.info()"
   ]
  },
  {
   "cell_type": "code",
   "execution_count": 6,
   "id": "9538020a-6b58-4c9d-996f-4996168e6b76",
   "metadata": {},
   "outputs": [],
   "source": [
    "Y_close = df['close']\n",
    "Y_open = df['open']\n",
    "X = df['timestamp']"
   ]
  },
  {
   "cell_type": "code",
   "execution_count": 7,
   "id": "83455ea6-00d6-4d13-a650-3d51b558ce9f",
   "metadata": {},
   "outputs": [],
   "source": [
    "%matplotlib inline"
   ]
  },
  {
   "cell_type": "code",
   "execution_count": 8,
   "id": "a8479423-e552-4027-9cdf-3f2eb8674ab2",
   "metadata": {},
   "outputs": [],
   "source": [
    "Y_test_graph_open = Y_open[::150].to_numpy()[::-1]\n",
    "Y_test_graph_close = Y_close[::150].to_numpy()[::-1]"
   ]
  },
  {
   "cell_type": "code",
   "execution_count": 9,
   "id": "d82686ee-a33e-4db6-8ec7-fdf23aedcf82",
   "metadata": {},
   "outputs": [],
   "source": [
    "X_test_graph = X[::150].to_numpy()[::-1]"
   ]
  },
  {
   "cell_type": "code",
   "execution_count": 10,
   "id": "75f95e40-17a9-49a1-b26c-28fd3b2b10cf",
   "metadata": {},
   "outputs": [],
   "source": [
    "y_open_float = np.array(list(map(float, Y_test_graph_open)))\n",
    "y_close_float = np.array(list(map(float, Y_test_graph_close)))"
   ]
  },
  {
   "cell_type": "code",
   "execution_count": 11,
   "id": "a2193d1b-bbc5-45c9-a353-537ab1e73a39",
   "metadata": {},
   "outputs": [
    {
     "data": {
      "image/png": "[encoded data removed]",
      "text/plain": [
       "<Figure size 640x480 with 1 Axes>"
      ]
     },
     "metadata": {},
     "output_type": "display_data"
    }
   ],
   "source": [
    "plt.plot(X_test_graph, y_open_float, color='green')\n",
    "plt.plot(X_test_graph, y_close_float, color='red')\n",
    "plt.savefig('foo.png')"
   ]
  },
  {
   "cell_type": "code",
   "execution_count": 60,
   "id": "69e847e8-6122-4006-9b7b-f1eea18829ee",
   "metadata": {},
   "outputs": [
    {
     "data": {
      "text/plain": [
       "<Figure size 640x480 with 0 Axes>"
      ]
     },
     "metadata": {},
     "output_type": "display_data"
    }
   ],
   "source": [
    "plt.savefig('foo.png')"
   ]
  },
  {
   "cell_type": "code",
   "execution_count": 63,
   "id": "50556747-3f32-4803-8a28-64703d151419",
   "metadata": {
    "scrolled": true
   },
   "outputs": [
    {
     "data": {
      "text/plain": [
       "array(['2023-07-31 19:55:00', '2023-07-31 05:10:00',\n",
       "       '2023-07-28 06:25:00', '2023-07-27 08:00:00',\n",
       "       '2023-07-26 09:25:00', '2023-07-25 10:10:00',\n",
       "       '2023-07-24 10:05:00', '2023-07-21 09:55:00',\n",
       "       '2023-07-20 10:20:00', '2023-07-19 12:25:00',\n",
       "       '2023-07-18 13:50:00', '2023-07-17 13:35:00',\n",
       "       '2023-07-14 14:40:00', '2023-07-13 15:15:00',\n",
       "       '2023-07-12 16:00:00', '2023-07-11 16:10:00',\n",
       "       '2023-07-10 15:35:00', '2023-07-07 14:35:00',\n",
       "       '2023-07-06 14:00:00', '2023-07-05 13:05:00',\n",
       "       '2023-07-03 10:05:00', '2023-08-31 09:05:00',\n",
       "       '2023-08-30 08:30:00', '2023-08-29 06:15:00',\n",
       "       '2023-08-25 19:20:00', '2023-08-24 17:20:00',\n",
       "       '2023-08-23 17:15:00', '2023-08-22 16:30:00',\n",
       "       '2023-08-21 15:50:00', '2023-08-18 15:50:00',\n",
       "       '2023-08-17 15:45:00', '2023-08-16 14:45:00',\n",
       "       '2023-08-15 13:40:00', '2023-08-14 13:30:00',\n",
       "       '2023-08-11 12:30:00', '2023-08-10 12:05:00',\n",
       "       '2023-08-09 11:40:00', '2023-08-08 12:30:00',\n",
       "       '2023-08-07 12:30:00', '2023-08-04 12:30:00',\n",
       "       '2023-08-03 13:05:00', '2023-08-02 13:45:00',\n",
       "       '2023-08-01 15:30:00', '2023-09-29 16:05:00',\n",
       "       '2023-09-28 15:05:00', '2023-09-27 15:30:00',\n",
       "       '2023-09-26 14:55:00', '2023-09-25 13:45:00',\n",
       "       '2023-09-22 12:50:00', '2023-09-21 13:15:00',\n",
       "       '2023-09-20 14:40:00', '2023-09-19 14:05:00',\n",
       "       '2023-09-18 12:10:00', '2023-09-15 12:10:00',\n",
       "       '2023-09-14 10:40:00', '2023-09-13 09:00:00',\n",
       "       '2023-09-12 09:15:00', '2023-09-11 08:45:00',\n",
       "       '2023-09-08 07:20:00', '2023-09-07 04:55:00',\n",
       "       '2023-09-05 17:40:00', '2023-09-01 17:10:00',\n",
       "       '2023-10-31 16:10:00', '2023-10-30 14:20:00',\n",
       "       '2023-10-27 13:55:00', '2023-10-26 15:50:00',\n",
       "       '2023-10-25 17:10:00', '2023-10-24 17:10:00',\n",
       "       '2023-10-23 16:50:00', '2023-10-20 16:10:00',\n",
       "       '2023-10-19 15:40:00', '2023-10-18 14:25:00',\n",
       "       '2023-10-17 13:25:00', '2023-10-16 12:50:00',\n",
       "       '2023-10-13 12:40:00', '2023-10-12 12:15:00',\n",
       "       '2023-10-11 11:25:00', '2023-10-10 09:40:00',\n",
       "       '2023-10-09 07:05:00', '2023-10-05 17:40:00',\n",
       "       '2023-10-04 14:40:00', '2023-10-03 13:55:00',\n",
       "       '2023-10-02 12:20:00'], dtype=object)"
      ]
     },
     "execution_count": 63,
     "metadata": {},
     "output_type": "execute_result"
    }
   ],
   "source": [
    "X_test_graph"
   ]
  },
  {
   "cell_type": "markdown",
   "id": "9924a127-49b1-45c3-befc-fb96b4bf399b",
   "metadata": {},
   "source": [
    "# обучаем RNN\n"
   ]
  },
  {
   "cell_type": "code",
   "execution_count": 3,
   "id": "efcf1933-3f8c-4bd5-b0fc-469658165b65",
   "metadata": {},
   "outputs": [],
   "source": [
    "import torch\n",
    "import torch.nn as nn\n",
    "import numpy as np\n",
    "import pandas as pd\n",
    "from sklearn.model_selection import train_test_split\n",
    "from sklearn.preprocessing import MinMaxScaler"
   ]
  },
  {
   "cell_type": "code",
   "execution_count": 4,
   "id": "b2e0388a-fdfa-4280-8146-e43ef3cfcb46",
   "metadata": {},
   "outputs": [
    {
     "data": {
      "text/html": [
       "<div>\n",
       "<style scoped>\n",
       "    .dataframe tbody tr th:only-of-type {\n",
       "        vertical-align: middle;\n",
       "    }\n",
       "\n",
       "    .dataframe tbody tr th {\n",
       "        vertical-align: top;\n",
       "    }\n",
       "\n",
       "    .dataframe thead th {\n",
       "        text-align: right;\n",
       "    }\n",
       "</style>\n",
       "<table border=\"1\" class=\"dataframe\">\n",
       "  <thead>\n",
       "    <tr style=\"text-align: right;\">\n",
       "      <th></th>\n",
       "      <th>timestamp</th>\n",
       "      <th>open</th>\n",
       "      <th>high</th>\n",
       "      <th>low</th>\n",
       "      <th>close</th>\n",
       "      <th>volume</th>\n",
       "    </tr>\n",
       "  </thead>\n",
       "  <tbody>\n",
       "    <tr>\n",
       "      <th>0</th>\n",
       "      <td>2023-11-30 19:55:00</td>\n",
       "      <td>158.350</td>\n",
       "      <td>158.550</td>\n",
       "      <td>158.310</td>\n",
       "      <td>158.310</td>\n",
       "      <td>105</td>\n",
       "    </tr>\n",
       "    <tr>\n",
       "      <th>1</th>\n",
       "      <td>2023-11-30 19:45:00</td>\n",
       "      <td>158.550</td>\n",
       "      <td>158.550</td>\n",
       "      <td>158.550</td>\n",
       "      <td>158.550</td>\n",
       "      <td>40</td>\n",
       "    </tr>\n",
       "    <tr>\n",
       "      <th>2</th>\n",
       "      <td>2023-11-30 19:40:00</td>\n",
       "      <td>158.300</td>\n",
       "      <td>158.300</td>\n",
       "      <td>158.300</td>\n",
       "      <td>158.300</td>\n",
       "      <td>1</td>\n",
       "    </tr>\n",
       "    <tr>\n",
       "      <th>3</th>\n",
       "      <td>2023-11-30 19:35:00</td>\n",
       "      <td>158.450</td>\n",
       "      <td>158.510</td>\n",
       "      <td>158.300</td>\n",
       "      <td>158.300</td>\n",
       "      <td>165</td>\n",
       "    </tr>\n",
       "    <tr>\n",
       "      <th>4</th>\n",
       "      <td>2023-11-30 19:30:00</td>\n",
       "      <td>158.490</td>\n",
       "      <td>158.490</td>\n",
       "      <td>158.440</td>\n",
       "      <td>158.490</td>\n",
       "      <td>115</td>\n",
       "    </tr>\n",
       "    <tr>\n",
       "      <th>...</th>\n",
       "      <td>...</td>\n",
       "      <td>...</td>\n",
       "      <td>...</td>\n",
       "      <td>...</td>\n",
       "      <td>...</td>\n",
       "      <td>...</td>\n",
       "    </tr>\n",
       "    <tr>\n",
       "      <th>15366</th>\n",
       "      <td>2023-07-03 04:45:00</td>\n",
       "      <td>130.823</td>\n",
       "      <td>130.886</td>\n",
       "      <td>130.783</td>\n",
       "      <td>130.857</td>\n",
       "      <td>40</td>\n",
       "    </tr>\n",
       "    <tr>\n",
       "      <th>15367</th>\n",
       "      <td>2023-07-03 04:30:00</td>\n",
       "      <td>130.794</td>\n",
       "      <td>130.798</td>\n",
       "      <td>130.714</td>\n",
       "      <td>130.730</td>\n",
       "      <td>28</td>\n",
       "    </tr>\n",
       "    <tr>\n",
       "      <th>15368</th>\n",
       "      <td>2023-07-03 04:10:00</td>\n",
       "      <td>130.823</td>\n",
       "      <td>130.827</td>\n",
       "      <td>130.783</td>\n",
       "      <td>130.798</td>\n",
       "      <td>1</td>\n",
       "    </tr>\n",
       "    <tr>\n",
       "      <th>15369</th>\n",
       "      <td>2023-07-03 04:05:00</td>\n",
       "      <td>130.754</td>\n",
       "      <td>131.003</td>\n",
       "      <td>130.685</td>\n",
       "      <td>130.798</td>\n",
       "      <td>121</td>\n",
       "    </tr>\n",
       "    <tr>\n",
       "      <th>15370</th>\n",
       "      <td>2023-07-03 04:00:00</td>\n",
       "      <td>130.852</td>\n",
       "      <td>131.003</td>\n",
       "      <td>130.714</td>\n",
       "      <td>130.730</td>\n",
       "      <td>51</td>\n",
       "    </tr>\n",
       "  </tbody>\n",
       "</table>\n",
       "<p>15371 rows × 6 columns</p>\n",
       "</div>"
      ],
      "text/plain": [
       "                 timestamp     open     high      low    close  volume\n",
       "0      2023-11-30 19:55:00  158.350  158.550  158.310  158.310     105\n",
       "1      2023-11-30 19:45:00  158.550  158.550  158.550  158.550      40\n",
       "2      2023-11-30 19:40:00  158.300  158.300  158.300  158.300       1\n",
       "3      2023-11-30 19:35:00  158.450  158.510  158.300  158.300     165\n",
       "4      2023-11-30 19:30:00  158.490  158.490  158.440  158.490     115\n",
       "...                    ...      ...      ...      ...      ...     ...\n",
       "15366  2023-07-03 04:45:00  130.823  130.886  130.783  130.857      40\n",
       "15367  2023-07-03 04:30:00  130.794  130.798  130.714  130.730      28\n",
       "15368  2023-07-03 04:10:00  130.823  130.827  130.783  130.798       1\n",
       "15369  2023-07-03 04:05:00  130.754  131.003  130.685  130.798     121\n",
       "15370  2023-07-03 04:00:00  130.852  131.003  130.714  130.730      51\n",
       "\n",
       "[15371 rows x 6 columns]"
      ]
     },
     "execution_count": 4,
     "metadata": {},
     "output_type": "execute_result"
    }
   ],
   "source": [
    "# Загрузка данных из CSV\n",
    "data = pd.read_csv('/home/sam/prog/api_stocks_get/data.csv')\n",
    "data"
   ]
  },
  {
   "cell_type": "code",
   "execution_count": 9,
   "id": "222fc06d-05e0-4720-a054-df903c04f9af",
   "metadata": {},
   "outputs": [
    {
     "name": "stdout",
     "output_type": "stream",
     "text": [
      "<class 'pandas.core.frame.DataFrame'>\n",
      "RangeIndex: 15371 entries, 0 to 15370\n",
      "Data columns (total 6 columns):\n",
      " #   Column     Non-Null Count  Dtype  \n",
      "---  ------     --------------  -----  \n",
      " 0   timestamp  15371 non-null  object \n",
      " 1   open       15371 non-null  float64\n",
      " 2   high       15371 non-null  float64\n",
      " 3   low        15371 non-null  float64\n",
      " 4   close      15371 non-null  float64\n",
      " 5   volume     15371 non-null  int64  \n",
      "dtypes: float64(4), int64(1), object(1)\n",
      "memory usage: 720.6+ KB\n"
     ]
    }
   ],
   "source": [
    "data['close'] = data['close'].astype(float)\n",
    "data['open'] = data['open'].astype(float)\n",
    "data['high'] = data['high'].astype(float)\n",
    "data['low'] = data['low'].astype(float)\n",
    "data.info()"
   ]
  },
  {
   "cell_type": "code",
   "execution_count": 42,
   "id": "e5d6e068-3002-4295-a3c2-ff49e2ce5a5e",
   "metadata": {},
   "outputs": [],
   "source": [
    "\n",
    "# # Преобразование данных\n",
    "scaler = MinMaxScaler(feature_range=(0, 1))\n",
    "scaled_data = scaler.fit_transform(data[['open', 'high', 'low', 'close', 'volume']])\n",
    "# scaled_data = data[['open', 'high', 'low', 'close', 'volume']]\n"
   ]
  },
  {
   "cell_type": "code",
   "execution_count": 43,
   "id": "7bac5032-739c-46fb-824c-56c165d171a3",
   "metadata": {},
   "outputs": [
    {
     "data": {
      "text/plain": [
       "array([[9.92761394e-01, 9.93976105e-01, 9.91989747e-01, 9.91795398e-01,\n",
       "        2.02361126e-05],\n",
       "       [9.99463807e-01, 9.93976105e-01, 9.99679590e-01, 9.99487212e-01,\n",
       "        7.58854224e-06],\n",
       "       [9.91085791e-01, 9.85609585e-01, 9.91669337e-01, 9.91474905e-01,\n",
       "        0.00000000e+00],\n",
       "       ...,\n",
       "       [7.02747989e-02, 6.61959104e-02, 1.09996796e-01, 1.10057048e-01,\n",
       "        0.00000000e+00],\n",
       "       [6.79624665e-02, 7.20859409e-02, 1.06856777e-01, 1.10057048e-01,\n",
       "        2.33493607e-05],\n",
       "       [7.12466488e-02, 7.20859409e-02, 1.07785966e-01, 1.07877700e-01,\n",
       "        9.72890030e-06]])"
      ]
     },
     "execution_count": 43,
     "metadata": {},
     "output_type": "execute_result"
    }
   ],
   "source": [
    "scaled_data"
   ]
  },
  {
   "cell_type": "code",
   "execution_count": 44,
   "id": "37254b5e-5a64-4ed7-be28-c0d2399127de",
   "metadata": {},
   "outputs": [],
   "source": [
    "# Функция для создания временных последовательностей\n",
    "def create_sequences(data, seq_length):\n",
    "    sequences = []\n",
    "    for i in range(len(data) - seq_length):\n",
    "        sequence = data[i:i + seq_length]\n",
    "        sequences.append(sequence)\n",
    "    return np.array(sequences)\n"
   ]
  },
  {
   "cell_type": "code",
   "execution_count": 45,
   "id": "99575260-826c-49f5-8d61-1b11d8eb1674",
   "metadata": {},
   "outputs": [],
   "source": [
    "\n",
    "# Параметры модели\n",
    "SEQ_LENGTH = 100  # Длина последовательности\n",
    "PREDICT_STEPS = 1  # Шаг для предсказания\n",
    "\n",
    "# Создание временных последовательностей\n",
    "sequences = create_sequences(scaled_data, SEQ_LENGTH + PREDICT_STEPS)"
   ]
  },
  {
   "cell_type": "code",
   "execution_count": 46,
   "id": "3fcd53a2-84d9-4059-8369-32f99907774e",
   "metadata": {
    "scrolled": true
   },
   "outputs": [
    {
     "data": {
      "text/plain": [
       "101"
      ]
     },
     "execution_count": 46,
     "metadata": {},
     "output_type": "execute_result"
    }
   ],
   "source": [
    "len(sequences[0]) "
   ]
  },
  {
   "cell_type": "markdown",
   "id": "1e86be35-9197-41ec-94d4-df1e37253835",
   "metadata": {},
   "source": [
    "101 число это 100 значений и 1 это предсказание"
   ]
  },
  {
   "cell_type": "code",
   "execution_count": 47,
   "id": "7377322e-f6d6-417b-abdc-46d203a4e9a7",
   "metadata": {},
   "outputs": [],
   "source": [
    "# Разделение на обучающую и валидационную выборки\n",
    "X = sequences[:, :-PREDICT_STEPS]\n",
    "y = sequences[:, -PREDICT_STEPS:]\n",
    "\n",
    "X_train, X_val, y_train, y_val = train_test_split(X, y, test_size=0.2, shuffle=False)"
   ]
  },
  {
   "cell_type": "code",
   "execution_count": 79,
   "id": "a9270121-62eb-4593-bc9b-847804c46453",
   "metadata": {},
   "outputs": [
    {
     "data": {
      "text/plain": [
       "torch.Size([12216, 100, 5])"
      ]
     },
     "execution_count": 79,
     "metadata": {},
     "output_type": "execute_result"
    }
   ],
   "source": [
    "X_train.size()"
   ]
  },
  {
   "cell_type": "code",
   "execution_count": 48,
   "id": "8f4783a5-8f32-4ac4-b555-1a521d2863db",
   "metadata": {},
   "outputs": [],
   "source": [
    "\n",
    "# Преобразование данных в тензоры PyTorch\n",
    "X_train = torch.from_numpy(X_train).float()\n",
    "y_train = torch.from_numpy(y_train).float()\n",
    "X_val = torch.from_numpy(X_val).float()\n",
    "y_val = torch.from_numpy(y_val).float()"
   ]
  },
  {
   "cell_type": "code",
   "execution_count": 49,
   "id": "d1d42c0f-d74d-4bb6-8ca2-e25272e79a99",
   "metadata": {},
   "outputs": [
    {
     "name": "stdout",
     "output_type": "stream",
     "text": [
      "torch.Size([12216, 100, 5])\n",
      "torch.Size([12216, 1, 5])\n",
      "torch.Size([3054, 100, 5])\n",
      "torch.Size([3054, 1, 5])\n",
      "torch.Size([12216, 5])\n",
      "torch.Size([3054, 5])\n"
     ]
    }
   ],
   "source": [
    "print(X_train.size())\n",
    "print(y_train.size())\n",
    "\n",
    "print(X_val.size())\n",
    "print(y_val.size())\n",
    "\n",
    "\n",
    "y_train = y_train.squeeze(1)\n",
    "y_val = y_val.squeeze(1)\n",
    "\n",
    "print(y_train.size())\n",
    "print(y_val.size())"
   ]
  },
  {
   "cell_type": "code",
   "execution_count": 50,
   "id": "e05f3a60-003c-4cbf-978c-01551153d742",
   "metadata": {},
   "outputs": [],
   "source": [
    "# Создание класса модели RNN\n",
    "class SimpleRNN(nn.Module):\n",
    "    def __init__(self, input_size, hidden_size, output_size):\n",
    "        super(SimpleRNN, self).__init__()\n",
    "        self.hidden_size = hidden_size\n",
    "        self.rnn = nn.RNN(input_size, hidden_size, batch_first=True)\n",
    "        self.fc = nn.Linear(hidden_size, output_size)\n",
    "\n",
    "    def forward(self, x):\n",
    "        h0 = torch.zeros(1, x.size(0), self.hidden_size).to(x.device)\n",
    "        out, _ = self.rnn(x, h0)\n",
    "        out = self.fc(out[:, -1, :])\n",
    "        return out"
   ]
  },
  {
   "cell_type": "code",
   "execution_count": 51,
   "id": "cd525a69-7acc-4257-8f6b-7ceeba10ee81",
   "metadata": {},
   "outputs": [],
   "source": [
    "# Инициализация модели\n",
    "input_size = 5  # Количество признаков во входных данных (open, high, low, close, volume)\n",
    "hidden_size = 100\n",
    "# output_size = PREDICT_STEPS\n",
    "model = SimpleRNN(input_size, hidden_size, 5)\n",
    "\n",
    "# Определение функции потерь и оптимизатора\n",
    "criterion = nn.MSELoss()\n",
    "optimizer = torch.optim.Adam(model.parameters(), lr=0.001)"
   ]
  },
  {
   "cell_type": "code",
   "execution_count": 52,
   "id": "696f7061-b809-4cdc-bed2-1d7e6f415299",
   "metadata": {},
   "outputs": [
    {
     "name": "stdout",
     "output_type": "stream",
     "text": [
      "Epoch [1/10], Loss: 0.260360985994339\n",
      "Epoch [2/10], Loss: 0.21251022815704346\n",
      "Epoch [3/10], Loss: 0.1717655509710312\n",
      "Epoch [4/10], Loss: 0.1351388394832611\n",
      "Epoch [5/10], Loss: 0.10092079639434814\n",
      "Epoch [6/10], Loss: 0.06870399415493011\n",
      "Epoch [7/10], Loss: 0.0398569256067276\n",
      "Epoch [8/10], Loss: 0.018466763198375702\n",
      "Epoch [9/10], Loss: 0.012056921608746052\n",
      "Epoch [10/10], Loss: 0.02408985234797001\n"
     ]
    }
   ],
   "source": [
    "# Обучение модели\n",
    "num_epochs = 10\n",
    "for epoch in range(num_epochs):\n",
    "    model.train()\n",
    "    outputs = model(X_train)\n",
    "    loss = criterion(outputs, y_train)\n",
    "    optimizer.zero_grad()\n",
    "    loss.backward()\n",
    "    optimizer.step()\n",
    "    print(f'Epoch [{epoch + 1}/{num_epochs}], Loss: {loss.item()}')"
   ]
  },
  {
   "cell_type": "code",
   "execution_count": 95,
   "id": "56f0d837-2a84-4b57-9146-f8211b2de17b",
   "metadata": {},
   "outputs": [
    {
     "name": "stdout",
     "output_type": "stream",
     "text": [
      "model prediction: tensor([[ 0.7164,  0.6067,  0.6359,  0.6588, -0.0318],\n",
      "        [ 0.7166,  0.6066,  0.6359,  0.6585, -0.0319],\n",
      "        [ 0.7169,  0.6065,  0.6359,  0.6588, -0.0318],\n",
      "        ...,\n",
      "        [ 0.5656,  0.4559,  0.4998,  0.5186, -0.0408],\n",
      "        [ 0.5657,  0.4555,  0.4995,  0.5185, -0.0409],\n",
      "        [ 0.5657,  0.4558,  0.4998,  0.5186, -0.0409]])\n",
      "true values: tensor([[3.9832e-01, 3.9406e-01, 4.1746e-01, 4.2295e-01, 9.7289e-06],\n",
      "        [3.9899e-01, 3.9470e-01, 4.1996e-01, 4.2013e-01, 6.0319e-06],\n",
      "        [3.9735e-01, 3.9309e-01, 4.2310e-01, 4.2327e-01, 1.1675e-06],\n",
      "        ...,\n",
      "        [6.9303e-02, 6.5225e-02, 1.0779e-01, 1.0788e-01, 5.2536e-06],\n",
      "        [7.0275e-02, 6.6196e-02, 1.1000e-01, 1.1006e-01, 0.0000e+00],\n",
      "        [6.7962e-02, 7.2086e-02, 1.0686e-01, 1.1006e-01, 2.3349e-05]])\n",
      "Validation Loss: 0.11689742654561996\n",
      "______________________\n",
      "original prediction: [[ 1.5010397e+02  1.4697783e+02  1.4719583e+02  1.4791977e+02\n",
      "  -1.6332319e+05]\n",
      " [ 1.5010953e+02  1.4697353e+02  1.4719739e+02  1.4791153e+02\n",
      "  -1.6392456e+05]\n",
      " [ 1.5011723e+02  1.4697227e+02  1.4719582e+02  1.4791937e+02\n",
      "  -1.6355394e+05]\n",
      " ...\n",
      " [ 1.4560266e+02  1.4247165e+02  1.4294777e+02  1.4354568e+02\n",
      "  -2.0957611e+05]\n",
      " [ 1.4560593e+02  1.4245898e+02  1.4294058e+02  1.4354091e+02\n",
      "  -2.1038633e+05]\n",
      " [ 1.4560573e+02  1.4246782e+02  1.4294791e+02  1.4354570e+02\n",
      "  -2.1017461e+05]]\n"
     ]
    }
   ],
   "source": [
    "def inverse_transform(scaled_data, scaler):\n",
    "\n",
    "    return scaler.inverse_transform(scaled_data)\n",
    "    \n",
    "# Валидация модели\n",
    "model.eval()\n",
    "with torch.no_grad():\n",
    "    predictions = model(X_val)\n",
    "    val_loss = criterion(predictions, y_val)\n",
    "    \n",
    "\n",
    "    original_predictions = inverse_transform(predictions.detach().numpy(), scaler)\n",
    "    true_stocks = inverse_transform(predictions.detach().numpy(), scaler)\n",
    "\n",
    "    print('model prediction:', predictions)\n",
    "    print('true values:', y_val)\n",
    "    \n",
    "    print(f'Validation Loss: {val_loss.item()}')\n",
    "    print('______________________')\n",
    "    print('original prediction:', original_predictions)\n",
    "\n",
    "# Прогнозирование\n",
    "# Для прогнозирования на новых данных нужно подготовить последовательность данных и использовать model.forward()\n"
   ]
  },
  {
   "cell_type": "code",
   "execution_count": 90,
   "id": "c2722d7a-ed83-482a-ac79-a47d3347306d",
   "metadata": {},
   "outputs": [
    {
     "data": {
      "text/plain": [
       "torch.Size([3054, 5])"
      ]
     },
     "execution_count": 90,
     "metadata": {},
     "output_type": "execute_result"
    }
   ],
   "source": [
    "predictions.size()"
   ]
  },
  {
   "cell_type": "code",
   "execution_count": 91,
   "id": "8acd9803-ab95-4cb2-aea2-f8b70ad29d9e",
   "metadata": {},
   "outputs": [
    {
     "data": {
      "text/plain": [
       "torch.Size([3054, 5])"
      ]
     },
     "execution_count": 91,
     "metadata": {},
     "output_type": "execute_result"
    }
   ],
   "source": [
    "y_val.size()"
   ]
  },
  {
   "cell_type": "markdown",
   "id": "22629821-095f-4a3d-9c09-f8571750b13f",
   "metadata": {},
   "source": [
    "# Построим графики закрытия цены по модели и по жизни"
   ]
  },
  {
   "cell_type": "code",
   "execution_count": 96,
   "id": "b9667646-d5cd-420b-be64-ce7cd1946650",
   "metadata": {},
   "outputs": [
    {
     "data": {
      "text/plain": [
       "array([[ 1.5010397e+02,  1.4697783e+02,  1.4719583e+02,  1.4791977e+02,\n",
       "        -1.6332319e+05],\n",
       "       [ 1.5010953e+02,  1.4697353e+02,  1.4719739e+02,  1.4791153e+02,\n",
       "        -1.6392456e+05],\n",
       "       [ 1.5011723e+02,  1.4697227e+02,  1.4719582e+02,  1.4791937e+02,\n",
       "        -1.6355394e+05],\n",
       "       ...,\n",
       "       [ 1.4560266e+02,  1.4247165e+02,  1.4294777e+02,  1.4354568e+02,\n",
       "        -2.0957611e+05],\n",
       "       [ 1.4560593e+02,  1.4245898e+02,  1.4294058e+02,  1.4354091e+02,\n",
       "        -2.1038633e+05],\n",
       "       [ 1.4560573e+02,  1.4246782e+02,  1.4294791e+02,  1.4354570e+02,\n",
       "        -2.1017461e+05]], dtype=float32)"
      ]
     },
     "execution_count": 96,
     "metadata": {},
     "output_type": "execute_result"
    }
   ],
   "source": [
    "predictions_to_graph = inverse_transform(predictions.detach().numpy(), scaler)\n",
    "predictions_to_graph"
   ]
  },
  {
   "cell_type": "code",
   "execution_count": 98,
   "id": "792033de-3a62-46eb-b152-2ec1d8146521",
   "metadata": {},
   "outputs": [
    {
     "data": {
      "text/plain": [
       "array([[140.612    , 140.624    , 140.379    , 140.56099  ,  51.       ],\n",
       "       [140.632    , 140.643    , 140.457    , 140.473    ,  32.       ],\n",
       "       [140.583    , 140.595    , 140.555    , 140.571    ,   6.9999995],\n",
       "       ...,\n",
       "       [130.79399  , 130.79799  , 130.714    , 130.73     ,  28.       ],\n",
       "       [130.823    , 130.82701  , 130.783    , 130.79799  ,   1.       ],\n",
       "       [130.754    , 131.003    , 130.685    , 130.79799  , 121.       ]],\n",
       "      dtype=float32)"
      ]
     },
     "execution_count": 98,
     "metadata": {},
     "output_type": "execute_result"
    }
   ],
   "source": [
    "y_val_to_graph = inverse_transform(y_val.detach().numpy(), scaler)\n",
    "y_val_to_graph"
   ]
  },
  {
   "cell_type": "code",
   "execution_count": 99,
   "id": "e8c9cd79-c043-4fde-8076-4f54bf9ab34e",
   "metadata": {
    "scrolled": true
   },
   "outputs": [
    {
     "data": {
      "text/plain": [
       "[147.91977,\n",
       " 146.12926,\n",
       " 146.11888,\n",
       " ...]"
      ]
     },
     "execution_count": 99,
     "metadata": {},
     "output_type": "execute_result"
    }
   ],
   "source": [
    "predictions_close = [stocks[-2] for stocks in predictions_to_graph]\n",
    "predictions_close"
   ]
  },
  {
   "cell_type": "code",
   "execution_count": 104,
   "id": "96a053cd-56b6-4e86-930b-26301919a6ea",
   "metadata": {
    "scrolled": true
   },
   "outputs": [
    {
     "data": {
      "text/plain": [
       "3054"
      ]
     },
     "execution_count": 104,
     "metadata": {},
     "output_type": "execute_result"
    }
   ],
   "source": [
    "y_val_close = [stocks[-2] for stocks in y_val_to_graph]\n",
    "len(y_val_close)"
   ]
  },
  {
   "cell_type": "code",
   "execution_count": 103,
   "id": "23f6fb0f-2e6c-4acb-ab6a-69552fd9c492",
   "metadata": {},
   "outputs": [],
   "source": [
    "time = np.array([i for i in range(3054)])"
   ]
  },
  {
   "cell_type": "code",
   "execution_count": 106,
   "id": "605b03d0-ee2c-44d7-82b4-27b1d249159a",
   "metadata": {},
   "outputs": [
    {
     "data": {
      "image/png": "[encoded data removed]",
      "text/plain": [
       "<Figure size 640x480 with 1 Axes>"
      ]
     },
     "metadata": {},
     "output_type": "display_data"
    }
   ],
   "source": [
    "plt.plot(time, y_val_close, color='green') # true\n",
    "plt.plot(time, predictions_close, color='red') # model\n",
    "plt.show()\n",
    "\n"
   ]
  },
  {
   "cell_type": "markdown",
   "id": "e5f6054e-ddc9-4977-8564-cdcf5184e8bd",
   "metadata": {},
   "source": [
    "# Валидация на одном примере"
   ]
  },
  {
   "cell_type": "code",
   "execution_count": 81,
   "id": "cff22cc4-c3d0-4e29-9ac4-0219a9dd7b4c",
   "metadata": {},
   "outputs": [
    {
     "data": {
      "text/plain": [
       "'\\n\\n\\n    open: 150.10\\n    high: 146.97\\n    low: 147.19\\n    close: 147.91\\n    volume ...\\n\\n\\n'"
      ]
     },
     "execution_count": 81,
     "metadata": {},
     "output_type": "execute_result"
    }
   ],
   "source": [
    "pred = model.forward(X_val)\n",
    "inverse_transform(pred.detach().numpy(), scaler)\n",
    "X_val.size()\n",
    "X_test = (X_val[0].unsqueeze(0))\n",
    "X_test.size()\n",
    "pred_test = model.forward(X_test)\n",
    "pred_test\n",
    "stocks_101 = inverse_transform(pred_test.detach().numpy(), scaler)\n",
    "stocks_101.tolist()  #['open', 'high', 'low', 'close', 'volume']\n",
    "\n",
    "# '''\n",
    "\n",
    "\n",
    "#     open: 150.10\n",
    "#     high: 146.97\n",
    "#     low: 147.19\n",
    "#     close: 147.91\n",
    "#     volume ...\n",
    "\n",
    "\n",
    "# '''\n"
   ]
  },
  {
   "cell_type": "code",
   "execution_count": null,
   "id": "7bf41c10-2156-47bc-8e73-8bef0c47e70c",
   "metadata": {},
   "outputs": [],
   "source": []
  }
 ],
 "metadata": {
  "kernelspec": {
   "display_name": "Python 3 (ipykernel)",
   "language": "python",
   "name": "python3"
  },
  "language_info": {
   "codemirror_mode": {
    "name": "ipython",
    "version": 3
   },
   "file_extension": ".py",
   "mimetype": "text/x-python",
   "name": "python",
   "nbconvert_exporter": "python",
   "pygments_lexer": "ipython3",
   "version": "3.10.12"
  }
 },
 "nbformat": 4,
 "nbformat_minor": 5
}
